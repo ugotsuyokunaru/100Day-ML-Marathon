{
 "cells": [
  {
   "cell_type": "markdown",
   "metadata": {},
   "source": [
    "## 練習時間\n",
    "#### 請寫一個函式用來計算 Mean Square Error\n",
    "$ MSE = \\frac{1}{n}\\sum_{i=1}^{n}{(Y_i - \\hat{Y}_i)^2} $\n",
    "\n",
    "### Hint: [如何取平方](https://googoodesign.gitbooks.io/-ezpython/unit-1.html)"
   ]
  },
  {
   "cell_type": "code",
   "execution_count": 2,
   "metadata": {
    "collapsed": true
   },
   "outputs": [],
   "source": [
    "import numpy as np\n",
    "import matplotlib.pyplot as plt"
   ]
  },
  {
   "cell_type": "code",
   "execution_count": 58,
   "metadata": {},
   "outputs": [],
   "source": [
    "def mean_squared_error(y, y_hat):\n",
    "    \"\"\"\n",
    "    Args :\n",
    "        - y : actual nums (np array)\n",
    "        - y_hat : predicted nums (np array)\n",
    "    Return : \n",
    "        - MSE : MSE of input (int)\n",
    "    \"\"\"\n",
    "    \n",
    "    print('np (y - y_hat) :\\n', (y - y_hat))\n",
    "    print('\\nn(y - y_hat)**2 :\\n', (y - y_hat)**2 )\n",
    "    \n",
    "#     MSE = 0\n",
    "#     for num in (y - y_hat)**2:\n",
    "#         MSE += num\n",
    "#     MSE = MSE / len(y)\n",
    "    \n",
    "    MSE = np.mean((y - y_hat)**2)\n",
    "    return MSE\n",
    "\n",
    "def mean_absolute_error(y, y_hat):\n",
    "    \"\"\"\n",
    "    Args :\n",
    "        - y : actual nums (np array)\n",
    "        - y_hat : predicted nums (np array)\n",
    "    Return: \n",
    "        - MAE : MAE of input (int)\n",
    "    \"\"\"\n",
    "    print('\\nnp (y - y_hat) :\\n', (y - y_hat))\n",
    "    print('\\nnp.absolute(y - y_hat) :\\n', np.absolute(y - y_hat))\n",
    "    \n",
    "#     MAE = 0\n",
    "#     for num in np.absolute(y - y_hat):\n",
    "#         MAE += num\n",
    "#     MAE = MAE / len(y)\n",
    "    \n",
    "    MAE = np.mean(np.absolute(y - y_hat))\n",
    "    return MSE"
   ]
  },
  {
   "cell_type": "code",
   "execution_count": 28,
   "metadata": {},
   "outputs": [
    {
     "name": "stdout",
     "output_type": "stream",
     "text": [
      "type(x_lin) : <class 'numpy.ndarray'> \n",
      "\n",
      "x_lin :  [  0.   1.   2.   3.   4.   5.   6.   7.   8.   9.  10.  11.  12.  13.\n",
      "  14.  15.  16.  17.  18.  19.  20.  21.  22.  23.  24.  25.  26.  27.\n",
      "  28.  29.  30.  31.  32.  33.  34.  35.  36.  37.  38.  39.  40.  41.\n",
      "  42.  43.  44.  45.  46.  47.  48.  49.  50.  51.  52.  53.  54.  55.\n",
      "  56.  57.  58.  59.  60.  61.  62.  63.  64.  65.  66.  67.  68.  69.\n",
      "  70.  71.  72.  73.  74.  75.  76.  77.  78.  79.  80.  81.  82.  83.\n",
      "  84.  85.  86.  87.  88.  89.  90.  91.  92.  93.  94.  95.  96.  97.\n",
      "  98.  99. 100.] \n",
      "\n",
      "Ex :\n",
      "\tx_lin[0] : 0.0 \n",
      "\ttype(x_lin[0]) : <class 'numpy.float64'> \n",
      "\n",
      "np_rand : [ 0.85206684  0.52802536 -0.80158587 -0.68045191 -0.7387812   0.01681028\n",
      " -1.71544656  0.33383917 -1.39786319 -0.03396591 -0.19358093 -0.64471861\n",
      " -1.40888122 -0.93417769 -0.71246128 -0.35793555 -0.4734281   0.65879348\n",
      "  0.16221596  1.27811519  0.04704685 -1.77738054 -0.51426497 -0.98097732\n",
      " -0.5710984   0.31063226  1.50138943 -0.082536   -0.14272573 -0.12733136\n",
      "  0.1152822   0.19255379  0.23324973  0.67573567 -0.39286853  0.12692972\n",
      "  2.02925826 -0.50106433  0.94467988 -1.31400864 -0.95892931 -0.74794927\n",
      " -0.29597808 -2.03094761 -0.40149935 -0.82135436 -0.09649799  0.44340613\n",
      " -0.25153602  0.00489832 -1.31997746 -0.29822194 -0.78871483 -0.69174782\n",
      "  0.05063618 -1.59470792  1.67865886 -0.00958047  0.80211836  0.55217216\n",
      "  0.93443287  0.84033701  0.64776812 -0.54697948  0.27382783  1.12896735\n",
      "  1.40278538 -1.77596707  1.20524618 -0.0109703  -0.71960239  2.45216649\n",
      " -0.15603582 -0.74402392  0.46902487 -0.20421386 -1.27754366  1.58567231\n",
      "  0.35353737 -2.34561494 -1.64789732  2.59900505 -0.88176943 -1.45987673\n",
      " -1.87879351  1.00624668  1.24017906  0.10852172  2.04980852  1.6299533\n",
      "  0.36001876 -0.24498527  0.69680821 -0.69374053  1.62385618  0.20012122\n",
      "  1.04500163 -0.14608575 -0.54083666 -0.34355237  1.75184764]\n"
     ]
    },
    {
     "data": {
      "image/png": "[encoded data removed]",
      "text/plain": [
       "<Figure size 432x288 with 1 Axes>"
      ]
     },
     "metadata": {},
     "output_type": "display_data"
    }
   ],
   "source": [
    "w = 3\n",
    "b = 0.5\n",
    "\n",
    "x_lin = np.linspace(0, 100, num=101) # 均勻間隔的101個數，start : 0 / end : 100 / total_num : 101\n",
    "np_rand = np.random.randn(101)\n",
    "\n",
    "print('type(x_lin) :', type(x_lin) , '\\n\\nx_lin : ', x_lin, '\\n')\n",
    "print('Ex :\\n\\tx_lin[0] :', x_lin[0], '\\n\\ttype(x_lin[0]) :', type(x_lin[0]), '\\n')\n",
    "print('np_rand :', np_rand)\n",
    "\n",
    "y = (x_lin + np_rand * 5) * w + b  # np_rand : 亂數值太小，乘以5 增加顯著性\n",
    "\n",
    "plt.plot(x_lin, y, 'b.', label = 'data points') # 'b.' : blue point\n",
    "plt.title(\"Assume we have data points\")\n",
    "plt.legend(loc = 2)\n",
    "plt.show()"
   ]
  },
  {
   "cell_type": "code",
   "execution_count": 25,
   "metadata": {},
   "outputs": [
    {
     "data": {
      "image/png": "[encoded data removed]",
      "text/plain": [
       "<Figure size 432x288 with 1 Axes>"
      ]
     },
     "metadata": {},
     "output_type": "display_data"
    }
   ],
   "source": [
    "y_hat = x_lin * w + b\n",
    "plt.plot(x_lin, y, 'b.', label = 'data')\n",
    "plt.plot(x_lin, y_hat, 'r-', label = 'prediction') # 'r-' : red line\n",
    "plt.title(\"Assume we have data points (And the prediction)\")\n",
    "plt.legend(loc = 2)  # 圖例放置位置。 = plt.legend(loc = 'upper left')\n",
    "plt.show()\n",
    "\n",
    "# 其中’loc’参数有多种，’best’表示自动分配最佳位置，其余的如下：\n",
    "\n",
    "#  'best' : 0,          \n",
    "#  'upper right'  : 1,\n",
    "#  'upper left'   : 2,\n",
    "#  'lower left'   : 3,\n",
    "#  'lower right'  : 4,\n",
    "#  'right'        : 5,\n",
    "#  'center left'  : 6,\n",
    "#  'center right' : 7,\n",
    "#  'lower center' : 8,\n",
    "#  'upper center' : 9,\n",
    "#  'center'       : 10,"
   ]
  },
  {
   "cell_type": "code",
   "execution_count": 49,
   "metadata": {},
   "outputs": [
    {
     "name": "stdout",
     "output_type": "stream",
     "text": [
      "np (y - y_hat) :\n",
      " [ 12.78100253   7.92038046 -12.02378809 -10.20677865 -11.08171799\n",
      "   0.25215416 -25.73169841   5.00758762 -20.9679478   -0.50948862\n",
      "  -2.90371388  -9.67077922 -21.13321824 -14.01266539 -10.68691917\n",
      "  -5.36903324  -7.10142153   9.88190221   2.43323942  19.17172781\n",
      "   0.70570273 -26.66070804  -7.7139746  -14.71465982  -8.56647605\n",
      "   4.65948386  22.52084141  -1.23804007  -2.14088599  -1.90997045\n",
      "   1.72923303   2.88830682   3.49874596  10.136035    -5.89302801\n",
      "   1.90394579  30.43887384  -7.51596489  14.17019824 -19.71012956\n",
      " -14.38393961 -11.21923909  -4.43967124 -30.46421408  -6.02249027\n",
      " -12.32031537  -1.44746992   6.65109196  -3.77304034   0.07347485\n",
      " -19.79966191  -4.47332916 -11.8307225  -10.3762173    0.75954264\n",
      " -23.92061873  25.17988287  -0.14370712  12.03177537   8.28258245\n",
      "  14.01649308  12.60505521   9.71652183  -8.20469222   4.10741741\n",
      "  16.93451024  21.04178076 -26.63950602  18.07869267  -0.16455455\n",
      " -10.79403578  36.78249729  -2.3405373  -11.16035875   7.03537306\n",
      "  -3.06320793 -19.16315497  23.7850847    5.30306055 -35.18422409\n",
      " -24.71845977  38.98507574 -13.22654146 -21.89815088 -28.18190261\n",
      "  15.09370017  18.60268595   1.62782586  30.74712774  24.44929957\n",
      "   5.40028144  -3.67477904  10.45212316 -10.406108    24.35784265\n",
      "   3.00181835  15.67502449  -2.1912863   -8.11254991  -5.15328558\n",
      "  26.27771467]\n",
      "\n",
      "n(y - y_hat)**2 :\n",
      " [1.63354026e+02 6.27324267e+01 1.44571480e+02 1.04178330e+02\n",
      " 1.22804474e+02 6.35817192e-02 6.62120303e+02 2.50759337e+01\n",
      " 4.39654835e+02 2.59578656e-01 8.43155428e+00 9.35239708e+01\n",
      " 4.46612913e+02 1.96354791e+02 1.14210241e+02 2.88265179e+01\n",
      " 5.04301878e+01 9.76519913e+01 5.92065407e+00 3.67555147e+02\n",
      " 4.98016342e-01 7.10793353e+02 5.95054042e+01 2.16521213e+02\n",
      " 7.33845119e+01 2.17107898e+01 5.07188298e+02 1.53274323e+00\n",
      " 4.58339283e+00 3.64798711e+00 2.99024687e+00 8.34231628e+00\n",
      " 1.22412233e+01 1.02739206e+02 3.47277791e+01 3.62500958e+00\n",
      " 9.26525041e+02 5.64897283e+01 2.00794518e+02 3.88489207e+02\n",
      " 2.06897719e+02 1.25871326e+02 1.97106807e+01 9.28068340e+02\n",
      " 3.62703891e+01 1.51790171e+02 2.09516916e+00 4.42370242e+01\n",
      " 1.42358334e+01 5.39855316e-03 3.92026612e+02 2.00106738e+01\n",
      " 1.39965995e+02 1.07665885e+02 5.76905018e-01 5.72196000e+02\n",
      " 6.34026501e+02 2.06517360e-02 1.44763618e+02 6.86011721e+01\n",
      " 1.96462078e+02 1.58887417e+02 9.44107965e+01 6.73169744e+01\n",
      " 1.68708778e+01 2.86777637e+02 4.42756538e+02 7.09663281e+02\n",
      " 3.26839129e+02 2.70781983e-02 1.16511209e+02 1.35295211e+03\n",
      " 5.47811487e+00 1.24553607e+02 4.94964742e+01 9.38324285e+00\n",
      " 3.67226509e+02 5.65730254e+02 2.81224512e+01 1.23792962e+03\n",
      " 6.11002254e+02 1.51983613e+03 1.74941399e+02 4.79529012e+02\n",
      " 7.94219635e+02 2.27819785e+02 3.46059925e+02 2.64981703e+00\n",
      " 9.45385864e+02 5.97768250e+02 2.91630397e+01 1.35040010e+01\n",
      " 1.09246879e+02 1.08287084e+02 5.93304499e+02 9.01091338e+00\n",
      " 2.45706393e+02 4.80173565e+00 6.58134661e+01 2.65563523e+01\n",
      " 6.90518288e+02]\n",
      "\n",
      "np (y - y_hat) :\n",
      " [ 12.78100253   7.92038046 -12.02378809 -10.20677865 -11.08171799\n",
      "   0.25215416 -25.73169841   5.00758762 -20.9679478   -0.50948862\n",
      "  -2.90371388  -9.67077922 -21.13321824 -14.01266539 -10.68691917\n",
      "  -5.36903324  -7.10142153   9.88190221   2.43323942  19.17172781\n",
      "   0.70570273 -26.66070804  -7.7139746  -14.71465982  -8.56647605\n",
      "   4.65948386  22.52084141  -1.23804007  -2.14088599  -1.90997045\n",
      "   1.72923303   2.88830682   3.49874596  10.136035    -5.89302801\n",
      "   1.90394579  30.43887384  -7.51596489  14.17019824 -19.71012956\n",
      " -14.38393961 -11.21923909  -4.43967124 -30.46421408  -6.02249027\n",
      " -12.32031537  -1.44746992   6.65109196  -3.77304034   0.07347485\n",
      " -19.79966191  -4.47332916 -11.8307225  -10.3762173    0.75954264\n",
      " -23.92061873  25.17988287  -0.14370712  12.03177537   8.28258245\n",
      "  14.01649308  12.60505521   9.71652183  -8.20469222   4.10741741\n",
      "  16.93451024  21.04178076 -26.63950602  18.07869267  -0.16455455\n",
      " -10.79403578  36.78249729  -2.3405373  -11.16035875   7.03537306\n",
      "  -3.06320793 -19.16315497  23.7850847    5.30306055 -35.18422409\n",
      " -24.71845977  38.98507574 -13.22654146 -21.89815088 -28.18190261\n",
      "  15.09370017  18.60268595   1.62782586  30.74712774  24.44929957\n",
      "   5.40028144  -3.67477904  10.45212316 -10.406108    24.35784265\n",
      "   3.00181835  15.67502449  -2.1912863   -8.11254991  -5.15328558\n",
      "  26.27771467]\n",
      "\n",
      "np.absolute(y - y_hat) :\n",
      " [12.78100253  7.92038046 12.02378809 10.20677865 11.08171799  0.25215416\n",
      " 25.73169841  5.00758762 20.9679478   0.50948862  2.90371388  9.67077922\n",
      " 21.13321824 14.01266539 10.68691917  5.36903324  7.10142153  9.88190221\n",
      "  2.43323942 19.17172781  0.70570273 26.66070804  7.7139746  14.71465982\n",
      "  8.56647605  4.65948386 22.52084141  1.23804007  2.14088599  1.90997045\n",
      "  1.72923303  2.88830682  3.49874596 10.136035    5.89302801  1.90394579\n",
      " 30.43887384  7.51596489 14.17019824 19.71012956 14.38393961 11.21923909\n",
      "  4.43967124 30.46421408  6.02249027 12.32031537  1.44746992  6.65109196\n",
      "  3.77304034  0.07347485 19.79966191  4.47332916 11.8307225  10.3762173\n",
      "  0.75954264 23.92061873 25.17988287  0.14370712 12.03177537  8.28258245\n",
      " 14.01649308 12.60505521  9.71652183  8.20469222  4.10741741 16.93451024\n",
      " 21.04178076 26.63950602 18.07869267  0.16455455 10.79403578 36.78249729\n",
      "  2.3405373  11.16035875  7.03537306  3.06320793 19.16315497 23.7850847\n",
      "  5.30306055 35.18422409 24.71845977 38.98507574 13.22654146 21.89815088\n",
      " 28.18190261 15.09370017 18.60268595  1.62782586 30.74712774 24.44929957\n",
      "  5.40028144  3.67477904 10.45212316 10.406108   24.35784265  3.00181835\n",
      " 15.67502449  2.1912863   8.11254991  5.15328558 26.27771467]\n",
      "\n",
      "----------------------------------------------------------\n",
      "\n",
      "The Mean squared error is 235.963\n",
      "The Mean absolute error is 235.963\n"
     ]
    }
   ],
   "source": [
    "# 執行 Function, 確認有沒有正常執行\n",
    "MSE = mean_squared_error(y, y_hat)\n",
    "MAE = mean_absolute_error(y, y_hat)\n",
    "\n",
    "print('\\n----------------------------------------------------------\\n')\n",
    "print(\"The Mean squared error is %.3f\" % (MSE))\n",
    "print(\"The Mean absolute error is %.3f\" % (MAE))"
   ]
  }
 ],
 "metadata": {
  "anaconda-cloud": {},
  "kernelspec": {
   "display_name": "Python 3",
   "language": "python",
   "name": "python3"
  },
  "language_info": {
   "codemirror_mode": {
    "name": "ipython",
    "version": 3
   },
   "file_extension": ".py",
   "mimetype": "text/x-python",
   "name": "python",
   "nbconvert_exporter": "python",
   "pygments_lexer": "ipython3",
   "version": "3.6.6"
  }
 },
 "nbformat": 4,
 "nbformat_minor": 1
}
